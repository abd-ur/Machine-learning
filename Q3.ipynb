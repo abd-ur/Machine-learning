{
  "nbformat": 4,
  "nbformat_minor": 0,
  "metadata": {
    "colab": {
      "provenance": [],
      "include_colab_link": true
    },
    "kernelspec": {
      "name": "python3",
      "display_name": "Python 3"
    },
    "language_info": {
      "name": "python"
    }
  },
  "cells": [
    {
      "cell_type": "markdown",
      "metadata": {
        "id": "view-in-github",
        "colab_type": "text"
      },
      "source": [
        "<a href=\"https://colab.research.google.com/github/mangekkyo/Machine-learning/blob/main/Q3.ipynb\" target=\"_parent\"><img src=\"https://colab.research.google.com/assets/colab-badge.svg\" alt=\"Open In Colab\"/></a>"
      ]
    },
    {
      "cell_type": "code",
      "source": [
        "#Importing libraries\n",
        "from keras.models import Sequential\n",
        "from keras.layers import Dense\n",
        "from keras.layers import LSTM\n",
        "from keras.layers import Dropout\n",
        "from keras.layers import Dense, SimpleRNN\n",
        "from keras.optimizers import RMSprop\n",
        "from keras.callbacks import Callback\n",
        "from tensorflow.keras.models import Model\n"
      ],
      "metadata": {
        "id": "quyjGchBPH7g"
      },
      "execution_count": null,
      "outputs": []
    },
    {
      "cell_type": "code",
      "source": [
        "import pandas as pd\n",
        "import matplotlib.pyplot as plt\n",
        "import numpy as np"
      ],
      "metadata": {
        "id": "cjgMUel4TmAI"
      },
      "execution_count": null,
      "outputs": []
    },
    {
      "cell_type": "code",
      "source": [
        "from keras.models import Sequential\n",
        "import tensorflow as tf\n",
        "from tensorflow.keras.layers import Dense,  Dropout,Input,LSTM,GRU\n",
        "from tensorflow.keras.models import Model\n",
        "from tensorflow.keras.optimizers import RMSprop"
      ],
      "metadata": {
        "id": "k0as1196u935"
      },
      "execution_count": null,
      "outputs": []
    },
    {
      "cell_type": "code",
      "source": [
        "#mounting drive to upload data\n",
        "from google.colab import drive\n",
        "drive.mount('/content/drive')"
      ],
      "metadata": {
        "colab": {
          "base_uri": "https://localhost:8080/"
        },
        "id": "nU0V3BsytBfY",
        "outputId": "0af6f36e-6c52-42ec-b0ec-94557f5eea5b"
      },
      "execution_count": null,
      "outputs": [
        {
          "output_type": "stream",
          "name": "stdout",
          "text": [
            "Drive already mounted at /content/drive; to attempt to forcibly remount, call drive.mount(\"/content/drive\", force_remount=True).\n"
          ]
        }
      ]
    },
    {
      "cell_type": "code",
      "execution_count": null,
      "metadata": {
        "id": "r8hIKn1vR1Dx"
      },
      "outputs": [],
      "source": [
        "train=pd.read_csv('/content/drive/MyDrive/Google_Stock_Price_Train.csv')"
      ]
    },
    {
      "cell_type": "code",
      "source": [
        "train"
      ],
      "metadata": {
        "colab": {
          "base_uri": "https://localhost:8080/",
          "height": 423
        },
        "id": "nLPuWzmUT9QL",
        "outputId": "5d112f6c-cc18-4330-87df-c67cf561351f"
      },
      "execution_count": null,
      "outputs": [
        {
          "output_type": "execute_result",
          "data": {
            "text/plain": [
              "            Date    Open    High     Low   Close      Volume\n",
              "0       1/3/2012  325.25  332.83  324.97  663.59   7,380,500\n",
              "1       1/4/2012  331.27  333.87  329.08  666.45   5,749,400\n",
              "2       1/5/2012  329.83  330.75  326.89  657.21   6,590,300\n",
              "3       1/6/2012  328.34  328.77  323.68  648.24   5,405,900\n",
              "4       1/9/2012  322.04  322.29  309.46  620.76  11,688,800\n",
              "...          ...     ...     ...     ...     ...         ...\n",
              "1253  12/23/2016  790.90  792.74  787.28  789.91     623,400\n",
              "1254  12/27/2016  790.68  797.86  787.66  791.55     789,100\n",
              "1255  12/28/2016  793.70  794.23  783.20  785.05   1,153,800\n",
              "1256  12/29/2016  783.33  785.93  778.92  782.79     744,300\n",
              "1257  12/30/2016  782.75  782.78  770.41  771.82   1,770,000\n",
              "\n",
              "[1258 rows x 6 columns]"
            ],
            "text/html": [
              "\n",
              "  <div id=\"df-b9e529c9-9686-4e81-9175-9a087ec626d6\">\n",
              "    <div class=\"colab-df-container\">\n",
              "      <div>\n",
              "<style scoped>\n",
              "    .dataframe tbody tr th:only-of-type {\n",
              "        vertical-align: middle;\n",
              "    }\n",
              "\n",
              "    .dataframe tbody tr th {\n",
              "        vertical-align: top;\n",
              "    }\n",
              "\n",
              "    .dataframe thead th {\n",
              "        text-align: right;\n",
              "    }\n",
              "</style>\n",
              "<table border=\"1\" class=\"dataframe\">\n",
              "  <thead>\n",
              "    <tr style=\"text-align: right;\">\n",
              "      <th></th>\n",
              "      <th>Date</th>\n",
              "      <th>Open</th>\n",
              "      <th>High</th>\n",
              "      <th>Low</th>\n",
              "      <th>Close</th>\n",
              "      <th>Volume</th>\n",
              "    </tr>\n",
              "  </thead>\n",
              "  <tbody>\n",
              "    <tr>\n",
              "      <th>0</th>\n",
              "      <td>1/3/2012</td>\n",
              "      <td>325.25</td>\n",
              "      <td>332.83</td>\n",
              "      <td>324.97</td>\n",
              "      <td>663.59</td>\n",
              "      <td>7,380,500</td>\n",
              "    </tr>\n",
              "    <tr>\n",
              "      <th>1</th>\n",
              "      <td>1/4/2012</td>\n",
              "      <td>331.27</td>\n",
              "      <td>333.87</td>\n",
              "      <td>329.08</td>\n",
              "      <td>666.45</td>\n",
              "      <td>5,749,400</td>\n",
              "    </tr>\n",
              "    <tr>\n",
              "      <th>2</th>\n",
              "      <td>1/5/2012</td>\n",
              "      <td>329.83</td>\n",
              "      <td>330.75</td>\n",
              "      <td>326.89</td>\n",
              "      <td>657.21</td>\n",
              "      <td>6,590,300</td>\n",
              "    </tr>\n",
              "    <tr>\n",
              "      <th>3</th>\n",
              "      <td>1/6/2012</td>\n",
              "      <td>328.34</td>\n",
              "      <td>328.77</td>\n",
              "      <td>323.68</td>\n",
              "      <td>648.24</td>\n",
              "      <td>5,405,900</td>\n",
              "    </tr>\n",
              "    <tr>\n",
              "      <th>4</th>\n",
              "      <td>1/9/2012</td>\n",
              "      <td>322.04</td>\n",
              "      <td>322.29</td>\n",
              "      <td>309.46</td>\n",
              "      <td>620.76</td>\n",
              "      <td>11,688,800</td>\n",
              "    </tr>\n",
              "    <tr>\n",
              "      <th>...</th>\n",
              "      <td>...</td>\n",
              "      <td>...</td>\n",
              "      <td>...</td>\n",
              "      <td>...</td>\n",
              "      <td>...</td>\n",
              "      <td>...</td>\n",
              "    </tr>\n",
              "    <tr>\n",
              "      <th>1253</th>\n",
              "      <td>12/23/2016</td>\n",
              "      <td>790.90</td>\n",
              "      <td>792.74</td>\n",
              "      <td>787.28</td>\n",
              "      <td>789.91</td>\n",
              "      <td>623,400</td>\n",
              "    </tr>\n",
              "    <tr>\n",
              "      <th>1254</th>\n",
              "      <td>12/27/2016</td>\n",
              "      <td>790.68</td>\n",
              "      <td>797.86</td>\n",
              "      <td>787.66</td>\n",
              "      <td>791.55</td>\n",
              "      <td>789,100</td>\n",
              "    </tr>\n",
              "    <tr>\n",
              "      <th>1255</th>\n",
              "      <td>12/28/2016</td>\n",
              "      <td>793.70</td>\n",
              "      <td>794.23</td>\n",
              "      <td>783.20</td>\n",
              "      <td>785.05</td>\n",
              "      <td>1,153,800</td>\n",
              "    </tr>\n",
              "    <tr>\n",
              "      <th>1256</th>\n",
              "      <td>12/29/2016</td>\n",
              "      <td>783.33</td>\n",
              "      <td>785.93</td>\n",
              "      <td>778.92</td>\n",
              "      <td>782.79</td>\n",
              "      <td>744,300</td>\n",
              "    </tr>\n",
              "    <tr>\n",
              "      <th>1257</th>\n",
              "      <td>12/30/2016</td>\n",
              "      <td>782.75</td>\n",
              "      <td>782.78</td>\n",
              "      <td>770.41</td>\n",
              "      <td>771.82</td>\n",
              "      <td>1,770,000</td>\n",
              "    </tr>\n",
              "  </tbody>\n",
              "</table>\n",
              "<p>1258 rows × 6 columns</p>\n",
              "</div>\n",
              "      <button class=\"colab-df-convert\" onclick=\"convertToInteractive('df-b9e529c9-9686-4e81-9175-9a087ec626d6')\"\n",
              "              title=\"Convert this dataframe to an interactive table.\"\n",
              "              style=\"display:none;\">\n",
              "        \n",
              "  <svg xmlns=\"http://www.w3.org/2000/svg\" height=\"24px\"viewBox=\"0 0 24 24\"\n",
              "       width=\"24px\">\n",
              "    <path d=\"M0 0h24v24H0V0z\" fill=\"none\"/>\n",
              "    <path d=\"M18.56 5.44l.94 2.06.94-2.06 2.06-.94-2.06-.94-.94-2.06-.94 2.06-2.06.94zm-11 1L8.5 8.5l.94-2.06 2.06-.94-2.06-.94L8.5 2.5l-.94 2.06-2.06.94zm10 10l.94 2.06.94-2.06 2.06-.94-2.06-.94-.94-2.06-.94 2.06-2.06.94z\"/><path d=\"M17.41 7.96l-1.37-1.37c-.4-.4-.92-.59-1.43-.59-.52 0-1.04.2-1.43.59L10.3 9.45l-7.72 7.72c-.78.78-.78 2.05 0 2.83L4 21.41c.39.39.9.59 1.41.59.51 0 1.02-.2 1.41-.59l7.78-7.78 2.81-2.81c.8-.78.8-2.07 0-2.86zM5.41 20L4 18.59l7.72-7.72 1.47 1.35L5.41 20z\"/>\n",
              "  </svg>\n",
              "      </button>\n",
              "      \n",
              "  <style>\n",
              "    .colab-df-container {\n",
              "      display:flex;\n",
              "      flex-wrap:wrap;\n",
              "      gap: 12px;\n",
              "    }\n",
              "\n",
              "    .colab-df-convert {\n",
              "      background-color: #E8F0FE;\n",
              "      border: none;\n",
              "      border-radius: 50%;\n",
              "      cursor: pointer;\n",
              "      display: none;\n",
              "      fill: #1967D2;\n",
              "      height: 32px;\n",
              "      padding: 0 0 0 0;\n",
              "      width: 32px;\n",
              "    }\n",
              "\n",
              "    .colab-df-convert:hover {\n",
              "      background-color: #E2EBFA;\n",
              "      box-shadow: 0px 1px 2px rgba(60, 64, 67, 0.3), 0px 1px 3px 1px rgba(60, 64, 67, 0.15);\n",
              "      fill: #174EA6;\n",
              "    }\n",
              "\n",
              "    [theme=dark] .colab-df-convert {\n",
              "      background-color: #3B4455;\n",
              "      fill: #D2E3FC;\n",
              "    }\n",
              "\n",
              "    [theme=dark] .colab-df-convert:hover {\n",
              "      background-color: #434B5C;\n",
              "      box-shadow: 0px 1px 3px 1px rgba(0, 0, 0, 0.15);\n",
              "      filter: drop-shadow(0px 1px 2px rgba(0, 0, 0, 0.3));\n",
              "      fill: #FFFFFF;\n",
              "    }\n",
              "  </style>\n",
              "\n",
              "      <script>\n",
              "        const buttonEl =\n",
              "          document.querySelector('#df-b9e529c9-9686-4e81-9175-9a087ec626d6 button.colab-df-convert');\n",
              "        buttonEl.style.display =\n",
              "          google.colab.kernel.accessAllowed ? 'block' : 'none';\n",
              "\n",
              "        async function convertToInteractive(key) {\n",
              "          const element = document.querySelector('#df-b9e529c9-9686-4e81-9175-9a087ec626d6');\n",
              "          const dataTable =\n",
              "            await google.colab.kernel.invokeFunction('convertToInteractive',\n",
              "                                                     [key], {});\n",
              "          if (!dataTable) return;\n",
              "\n",
              "          const docLinkHtml = 'Like what you see? Visit the ' +\n",
              "            '<a target=\"_blank\" href=https://colab.research.google.com/notebooks/data_table.ipynb>data table notebook</a>'\n",
              "            + ' to learn more about interactive tables.';\n",
              "          element.innerHTML = '';\n",
              "          dataTable['output_type'] = 'display_data';\n",
              "          await google.colab.output.renderOutput(dataTable, element);\n",
              "          const docLink = document.createElement('div');\n",
              "          docLink.innerHTML = docLinkHtml;\n",
              "          element.appendChild(docLink);\n",
              "        }\n",
              "      </script>\n",
              "    </div>\n",
              "  </div>\n",
              "  "
            ]
          },
          "metadata": {},
          "execution_count": 6
        }
      ]
    },
    {
      "cell_type": "code",
      "source": [
        "train.dtypes"
      ],
      "metadata": {
        "colab": {
          "base_uri": "https://localhost:8080/"
        },
        "id": "KArnnXhbT-77",
        "outputId": "d2cac620-d20b-495a-93b0-764621254e11"
      },
      "execution_count": null,
      "outputs": [
        {
          "output_type": "execute_result",
          "data": {
            "text/plain": [
              "Date       object\n",
              "Open      float64\n",
              "High      float64\n",
              "Low       float64\n",
              "Close      object\n",
              "Volume     object\n",
              "dtype: object"
            ]
          },
          "metadata": {},
          "execution_count": 8
        }
      ]
    },
    {
      "cell_type": "code",
      "source": [
        "test=pd.read_csv('/content/drive/MyDrive/Google_Stock_Price_Test.csv')"
      ],
      "metadata": {
        "id": "OMiMh8uhTipc"
      },
      "execution_count": null,
      "outputs": []
    },
    {
      "cell_type": "code",
      "source": [
        "train1 = train.iloc[:, 1:2].values"
      ],
      "metadata": {
        "id": "WUhkCmYQUL44"
      },
      "execution_count": null,
      "outputs": []
    },
    {
      "cell_type": "code",
      "source": [
        "train1"
      ],
      "metadata": {
        "colab": {
          "base_uri": "https://localhost:8080/"
        },
        "id": "dJMXkneIUl_Y",
        "outputId": "ad65d5ea-c50a-40ce-ccfd-d8394fb75472"
      },
      "execution_count": null,
      "outputs": [
        {
          "output_type": "execute_result",
          "data": {
            "text/plain": [
              "array([[325.25],\n",
              "       [331.27],\n",
              "       [329.83],\n",
              "       ...,\n",
              "       [793.7 ],\n",
              "       [783.33],\n",
              "       [782.75]])"
            ]
          },
          "metadata": {},
          "execution_count": 10
        }
      ]
    },
    {
      "cell_type": "code",
      "source": [
        "from sklearn.preprocessing import MinMaxScaler\n",
        "sc=MinMaxScaler(feature_range=(0,1))\n",
        "train_scaled=sc.fit_transform(train1)"
      ],
      "metadata": {
        "id": "4sZPlslZUnSl"
      },
      "execution_count": null,
      "outputs": []
    },
    {
      "cell_type": "code",
      "source": [
        "train_scaled"
      ],
      "metadata": {
        "colab": {
          "base_uri": "https://localhost:8080/"
        },
        "id": "E5mbo3XpZDLz",
        "outputId": "dcee08f3-6e2a-4e28-f80f-d330fb3ea71c"
      },
      "execution_count": null,
      "outputs": [
        {
          "output_type": "execute_result",
          "data": {
            "text/plain": [
              "array([[0.08581368],\n",
              "       [0.09701243],\n",
              "       [0.09433366],\n",
              "       ...,\n",
              "       [0.95725128],\n",
              "       [0.93796041],\n",
              "       [0.93688146]])"
            ]
          },
          "metadata": {},
          "execution_count": 12
        }
      ]
    },
    {
      "cell_type": "code",
      "source": [
        "x_train=[]\n",
        "y_train=[]\n",
        "for i in range(60,1258):\n",
        "  x_train.append(train_scaled[i-60:i,0])\n",
        "  y_train.append(train_scaled[i,0])\n",
        "x_train,y_train=np.array(x_train),np.array(y_train)"
      ],
      "metadata": {
        "id": "rQsNTEjoWU0d"
      },
      "execution_count": null,
      "outputs": []
    },
    {
      "cell_type": "code",
      "source": [
        "x_train"
      ],
      "metadata": {
        "colab": {
          "base_uri": "https://localhost:8080/"
        },
        "id": "jAwm-y5zY6tu",
        "outputId": "98df9ae8-74f1-4b27-9b6b-194e47d6abd0"
      },
      "execution_count": null,
      "outputs": [
        {
          "output_type": "execute_result",
          "data": {
            "text/plain": [
              "array([[0.08581368, 0.09701243, 0.09433366, ..., 0.07846566, 0.08034452,\n",
              "        0.08497656],\n",
              "       [0.09701243, 0.09433366, 0.09156187, ..., 0.08034452, 0.08497656,\n",
              "        0.08627874],\n",
              "       [0.09433366, 0.09156187, 0.07984225, ..., 0.08497656, 0.08627874,\n",
              "        0.08471612],\n",
              "       ...,\n",
              "       [0.92106928, 0.92438053, 0.93048218, ..., 0.95475854, 0.95204256,\n",
              "        0.95163331],\n",
              "       [0.92438053, 0.93048218, 0.9299055 , ..., 0.95204256, 0.95163331,\n",
              "        0.95725128],\n",
              "       [0.93048218, 0.9299055 , 0.93113327, ..., 0.95163331, 0.95725128,\n",
              "        0.93796041]])"
            ]
          },
          "metadata": {},
          "execution_count": 14
        }
      ]
    },
    {
      "cell_type": "code",
      "source": [
        "y_train"
      ],
      "metadata": {
        "colab": {
          "base_uri": "https://localhost:8080/"
        },
        "id": "jpa8qZD0Y9F0",
        "outputId": "55b98a4e-66c6-4fc6-e0b0-101556271f26"
      },
      "execution_count": null,
      "outputs": [
        {
          "output_type": "execute_result",
          "data": {
            "text/plain": [
              "array([0.08627874, 0.08471612, 0.07454052, ..., 0.95725128, 0.93796041,\n",
              "       0.93688146])"
            ]
          },
          "metadata": {},
          "execution_count": 15
        }
      ]
    },
    {
      "cell_type": "code",
      "source": [
        "dataset_total=pd.concat((train['Open'], test['Open']), axis=0)\n",
        "inputs=dataset_total[len(dataset_total)- len(test)- 60:].values\n",
        "inputs=inputs.reshape(-1,1)\n",
        "inputs=sc.transform(inputs)\n",
        "x_test=[]\n",
        "for i in range(60,80):\n",
        "  x_test.append(inputs[i-60:i,0])\n",
        "x_test=np.array(x_test)"
      ],
      "metadata": {
        "id": "uNxx0XqGtr5Q"
      },
      "execution_count": null,
      "outputs": []
    },
    {
      "cell_type": "code",
      "source": [
        "x_test= np.reshape(x_test, (x_test.shape[0],x_test.shape[1],1))"
      ],
      "metadata": {
        "id": "OLSyWmipY_dA"
      },
      "execution_count": null,
      "outputs": []
    },
    {
      "cell_type": "code",
      "source": [
        "x_train=np.reshape(x_train,(x_train.shape[0],x_train.shape[1],1))"
      ],
      "metadata": {
        "id": "4jyyC2kKuLL3"
      },
      "execution_count": null,
      "outputs": []
    },
    {
      "cell_type": "code",
      "source": [
        "actual_stock_price=test.iloc[:,1:2].values"
      ],
      "metadata": {
        "id": "wMY7NmsjuOX0"
      },
      "execution_count": null,
      "outputs": []
    },
    {
      "cell_type": "code",
      "source": [
        "#LSTM\n",
        "time_steps=60\n",
        "\n",
        "model=Sequential()\n",
        "model.add(Input(shape=(time_steps,1)))\n",
        "model.add(LSTM(48,return_sequences=True))\n",
        "model.add(Dropout(0.4))\n",
        "model.add(LSTM(48,return_sequences=True))\n",
        "model.add(Dropout(0.2))\n",
        "model.add(LSTM(48))\n",
        "model.add(Dropout(0.2))\n",
        "model.add(Dense(1,activation=\"relu\"))"
      ],
      "metadata": {
        "id": "hNMEi9aUuU27"
      },
      "execution_count": null,
      "outputs": []
    },
    {
      "cell_type": "code",
      "source": [
        "predicted_stock_price=model.predict(x_test)\n",
        "predicted_stock_price =sc.inverse_transform(predicted_stock_price)"
      ],
      "metadata": {
        "colab": {
          "base_uri": "https://localhost:8080/"
        },
        "id": "OJC1L3Srua5y",
        "outputId": "cb4997ce-81f4-42a8-903c-e9484df2a02b"
      },
      "execution_count": null,
      "outputs": [
        {
          "output_type": "stream",
          "name": "stdout",
          "text": [
            "1/1 [==============================] - 3s 3s/step\n"
          ]
        }
      ]
    },
    {
      "cell_type": "code",
      "source": [
        "model.compile(loss=\"mean_squared_error\",optimizer=\"adam\",metrics=['mse'])"
      ],
      "metadata": {
        "id": "KKP7lDoSvI2v"
      },
      "execution_count": null,
      "outputs": []
    },
    {
      "cell_type": "code",
      "source": [
        "model.fit(x_train,y_train,epochs=20,batch_size=32)"
      ],
      "metadata": {
        "colab": {
          "base_uri": "https://localhost:8080/"
        },
        "id": "UcXxVjWfvL38",
        "outputId": "8929a6c0-d55f-4e7c-c23e-d4afd351e847"
      },
      "execution_count": null,
      "outputs": [
        {
          "output_type": "stream",
          "name": "stdout",
          "text": [
            "Epoch 1/20\n",
            "38/38 [==============================] - 11s 125ms/step - loss: 0.0368 - mse: 0.0368\n",
            "Epoch 2/20\n",
            "38/38 [==============================] - 7s 179ms/step - loss: 0.0053 - mse: 0.0053\n",
            "Epoch 3/20\n",
            "38/38 [==============================] - 5s 127ms/step - loss: 0.0053 - mse: 0.0053\n",
            "Epoch 4/20\n",
            "38/38 [==============================] - 10s 254ms/step - loss: 0.0058 - mse: 0.0058\n",
            "Epoch 5/20\n",
            "38/38 [==============================] - 9s 236ms/step - loss: 0.0047 - mse: 0.0047\n",
            "Epoch 6/20\n",
            "38/38 [==============================] - 7s 177ms/step - loss: 0.0047 - mse: 0.0047\n",
            "Epoch 7/20\n",
            "38/38 [==============================] - 4s 112ms/step - loss: 0.0044 - mse: 0.0044\n",
            "Epoch 8/20\n",
            "38/38 [==============================] - 6s 147ms/step - loss: 0.0040 - mse: 0.0040\n",
            "Epoch 9/20\n",
            "38/38 [==============================] - 3s 92ms/step - loss: 0.0038 - mse: 0.0038\n",
            "Epoch 10/20\n",
            "38/38 [==============================] - 4s 108ms/step - loss: 0.0051 - mse: 0.0051\n",
            "Epoch 11/20\n",
            "38/38 [==============================] - 5s 131ms/step - loss: 0.0041 - mse: 0.0041\n",
            "Epoch 12/20\n",
            "38/38 [==============================] - 5s 125ms/step - loss: 0.0039 - mse: 0.0039\n",
            "Epoch 13/20\n",
            "38/38 [==============================] - 3s 90ms/step - loss: 0.0033 - mse: 0.0033\n",
            "Epoch 14/20\n",
            "38/38 [==============================] - 4s 109ms/step - loss: 0.0038 - mse: 0.0038\n",
            "Epoch 15/20\n",
            "38/38 [==============================] - 5s 139ms/step - loss: 0.0036 - mse: 0.0036\n",
            "Epoch 16/20\n",
            "38/38 [==============================] - 4s 93ms/step - loss: 0.0039 - mse: 0.0039\n",
            "Epoch 17/20\n",
            "38/38 [==============================] - 4s 94ms/step - loss: 0.0033 - mse: 0.0033\n",
            "Epoch 18/20\n",
            "38/38 [==============================] - 5s 120ms/step - loss: 0.0036 - mse: 0.0036\n",
            "Epoch 19/20\n",
            "38/38 [==============================] - 4s 115ms/step - loss: 0.0035 - mse: 0.0035\n",
            "Epoch 20/20\n",
            "38/38 [==============================] - 4s 106ms/step - loss: 0.0034 - mse: 0.0034\n"
          ]
        },
        {
          "output_type": "execute_result",
          "data": {
            "text/plain": [
              "<keras.callbacks.History at 0x7f7d4c626ce0>"
            ]
          },
          "metadata": {},
          "execution_count": 30
        }
      ]
    },
    {
      "cell_type": "code",
      "source": [
        "plt.plot(actual_stock_price,color='red',label=\"real google stock price\")\n",
        "plt.plot(predicted_stock_price, color=\"blue\",label='predicted google stock price')\n",
        "plt.title(\"google stock price prediction\")\n",
        "plt.xlabel(\"time\")\n",
        "plt.ylabel(\"google stock price\")\n",
        "plt.legend()\n",
        "plt.show()"
      ],
      "metadata": {
        "colab": {
          "base_uri": "https://localhost:8080/",
          "height": 472
        },
        "id": "USSL2HhGvUxz",
        "outputId": "332338a8-762b-486d-d780-9e22f7e61312"
      },
      "execution_count": null,
      "outputs": [
        {
          "output_type": "display_data",
          "data": {
            "text/plain": [
              "<Figure size 640x480 with 1 Axes>"
            ],
            "image/png": "[encoded data removed]"
          },
          "metadata": {}
        }
      ]
    },
    {
      "cell_type": "code",
      "source": [
        "#GRU\n",
        "model=Sequential()\n",
        "model.add(GRU(units=50,return_sequences=True,input_shape=(x_train.shape[1],1),activation='tanh'))\n",
        "model.add(Dropout(0.2))\n",
        "model.add(GRU(units=50,return_sequences=True,input_shape=(x_train.shape[1],1),activation='tanh'))\n",
        "model.add(Dropout(0.2))\n",
        "model.add(GRU(units=50,return_sequences=True,input_shape=(x_train.shape[1],1),activation='tanh'))\n",
        "model.add(Dropout(0.2))\n",
        "model.add(GRU(units=50, activation='tanh'))\n",
        "model.add(Dropout(0.2))\n",
        "model.add(Dense(units=1))\n"
      ],
      "metadata": {
        "id": "BOsPoWPfvdIj"
      },
      "execution_count": null,
      "outputs": []
    },
    {
      "cell_type": "code",
      "source": [
        "model.compile(loss=\"mean_squared_error\",optimizer=\"adam\",metrics=['mse'])"
      ],
      "metadata": {
        "id": "9_57G5TPvhZq"
      },
      "execution_count": null,
      "outputs": []
    },
    {
      "cell_type": "code",
      "source": [
        "model.fit(x_train,y_train,epochs=20,batch_size=32)"
      ],
      "metadata": {
        "colab": {
          "base_uri": "https://localhost:8080/"
        },
        "id": "zsZ4GTL1vlxM",
        "outputId": "c974bc01-ad8d-4448-9c28-18a8eed9386f"
      },
      "execution_count": null,
      "outputs": [
        {
          "output_type": "stream",
          "name": "stdout",
          "text": [
            "Epoch 1/20\n",
            "38/38 [==============================] - 15s 137ms/step - loss: 0.0418 - mse: 0.0418\n",
            "Epoch 2/20\n",
            "38/38 [==============================] - 7s 183ms/step - loss: 0.0055 - mse: 0.0055\n",
            "Epoch 3/20\n",
            "38/38 [==============================] - 6s 157ms/step - loss: 0.0050 - mse: 0.0050\n",
            "Epoch 4/20\n",
            "38/38 [==============================] - 5s 136ms/step - loss: 0.0045 - mse: 0.0045\n",
            "Epoch 5/20\n",
            "38/38 [==============================] - 7s 192ms/step - loss: 0.0044 - mse: 0.0044\n",
            "Epoch 6/20\n",
            "38/38 [==============================] - 6s 149ms/step - loss: 0.0042 - mse: 0.0042\n",
            "Epoch 7/20\n",
            "38/38 [==============================] - 8s 206ms/step - loss: 0.0040 - mse: 0.0040\n",
            "Epoch 8/20\n",
            "38/38 [==============================] - 5s 136ms/step - loss: 0.0036 - mse: 0.0036\n",
            "Epoch 9/20\n",
            "38/38 [==============================] - 6s 158ms/step - loss: 0.0035 - mse: 0.0035\n",
            "Epoch 10/20\n",
            "38/38 [==============================] - 6s 163ms/step - loss: 0.0032 - mse: 0.0032\n",
            "Epoch 11/20\n",
            "38/38 [==============================] - 5s 136ms/step - loss: 0.0033 - mse: 0.0033\n",
            "Epoch 12/20\n",
            "38/38 [==============================] - 8s 209ms/step - loss: 0.0033 - mse: 0.0033\n",
            "Epoch 13/20\n",
            "38/38 [==============================] - 5s 136ms/step - loss: 0.0033 - mse: 0.0033\n",
            "Epoch 14/20\n",
            "38/38 [==============================] - 7s 180ms/step - loss: 0.0032 - mse: 0.0032\n",
            "Epoch 15/20\n",
            "38/38 [==============================] - 6s 144ms/step - loss: 0.0031 - mse: 0.0031\n",
            "Epoch 16/20\n",
            "38/38 [==============================] - 5s 139ms/step - loss: 0.0031 - mse: 0.0031\n",
            "Epoch 17/20\n",
            "38/38 [==============================] - 7s 184ms/step - loss: 0.0032 - mse: 0.0032\n",
            "Epoch 18/20\n",
            "38/38 [==============================] - 5s 135ms/step - loss: 0.0029 - mse: 0.0029\n",
            "Epoch 19/20\n",
            "38/38 [==============================] - 7s 190ms/step - loss: 0.0029 - mse: 0.0029\n",
            "Epoch 20/20\n",
            "38/38 [==============================] - 5s 137ms/step - loss: 0.0026 - mse: 0.0026\n"
          ]
        },
        {
          "output_type": "execute_result",
          "data": {
            "text/plain": [
              "<keras.callbacks.History at 0x7f7d3fd23e50>"
            ]
          },
          "metadata": {},
          "execution_count": 34
        }
      ]
    },
    {
      "cell_type": "code",
      "source": [
        "predicted_stock_price=model.predict(x_test)\n",
        "predicted_stock_price =sc.inverse_transform(predicted_stock_price)\n",
        "import matplotlib.pyplot as plt\n",
        "plt.plot(actual_stock_price,color='red',label=\"real google stock price\")\n",
        "plt.plot(predicted_stock_price, color=\"blue\",label='predicted google stock price')\n",
        "plt.title(\"google stock price prediction\")\n",
        "plt.xlabel(\"time\")\n",
        "plt.ylabel(\"google stock price\")\n",
        "plt.legend()\n",
        "plt.show()"
      ],
      "metadata": {
        "colab": {
          "base_uri": "https://localhost:8080/",
          "height": 489
        },
        "id": "wserflrPvl69",
        "outputId": "83180d37-edf2-4fb9-8149-9520f9836516"
      },
      "execution_count": null,
      "outputs": [
        {
          "output_type": "stream",
          "name": "stdout",
          "text": [
            "1/1 [==============================] - 0s 88ms/step\n"
          ]
        },
        {
          "output_type": "display_data",
          "data": {
            "text/plain": [
              "<Figure size 640x480 with 1 Axes>"
            ],
            "image/png": "[encoded data removed]"
          },
          "metadata": {}
        }
      ]
    },
    {
      "cell_type": "markdown",
      "source": [
        "Interpretation: The MSE value of LSTM Model - 0.0034 and GRU - 0.0026.\n",
        "GRU model performed for Google Stock Prediction Data.\n",
        "Both of the models performed good considering the mse is very low."
      ],
      "metadata": {
        "id": "heMOA9rB66QK"
      }
    }
  ]
}